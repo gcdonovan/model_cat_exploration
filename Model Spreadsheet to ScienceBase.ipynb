{
 "cells": [
  {
   "cell_type": "markdown",
   "metadata": {},
   "source": [
    "This notebook works through a process to build a collection of model descriptor items in ScienceBase from a source spreadsheet and then get that information back out of ScienceBase as a spreadsheet. Once the items are in ScienceBase, you could also use the built in output to CSV for a ScienceBase catalog search result, but doing that in code lets you fully control what you want in the spreadsheet.\n",
    "\n",
    "There is also another feature in ScienceBase to attach a spreadsheet to an item and then provide a configuration snippet that is used to generate child items from the rows in the spreadsheet. I just didn't immediately turn up documentation on how to do that, and I've forgotten the specifics.\n",
    "\n",
    "Personally, I would use the spreadsheet-to-sciencebase method once and then do everything else in ScienceBase from that point on. Otherwise, you would need a process to first lookup the existing item in ScienceBase and update with whatever you changed in the spreadsheet. I did not build that kind of \"upsert\" method into this code."
   ]
  },
  {
   "cell_type": "code",
   "execution_count": 1,
   "metadata": {},
   "outputs": [],
   "source": [
    "import pandas as pd\n",
    "from sciencebasepy import SbSession\n",
    "import requests\n",
    "import json\n",
    "from IPython.display import display"
   ]
  },
  {
   "cell_type": "markdown",
   "metadata": {},
   "source": [
    "# Functions\n",
    "I put all of the codes needed to build this out into individual functions that do the work. My functions here are lazy in that they make some assumptions that should properly be checked with some error trapping. If I had more time, I'd clean things up a bit. If you follow the instructions, they should all run just fine.\n",
    "\n",
    "* create_model_catalog - Creates the container item either in the logged in user's My Items container or into another parent of your choosing. Defaults to a particular title and will delete any items with the same title (and child items) if it exists in the specified location.\n",
    "* load_models_spreadsheet - Loads the models Excel file into a Pandas dataframe, defaults to the last known file name in the local immediate path\n",
    "* sb_party_to_contact - Takes an email address for a point of contact on the model, searches for the contact in the ScienceBase Directory, and builds a contact document in the format needed by ScienceBase Catalog\n",
    "* sb_web_link - Takes a URL and optional title and returns a webLink document in the format needed by ScienceBase Catalog\n",
    "* build_model_documents - Processes the dataframe from the spreadsheet to turn each record into a ScienceBase Item that documents a model\n",
    "* model_catalog_list_out - Gets all model descriptions from the Model Catalog collection in ScienceBase and outputs them in a number of ways; defaults to building an Excel file with no return output"
   ]
  },
  {
   "cell_type": "code",
   "execution_count": 2,
   "metadata": {},
   "outputs": [],
   "source": [
    "def create_model_catalog(parent_id=None, title=\"USGS Model Catalog\", body=None, delete_if_exists=True):\n",
    "    if parent_id is None:\n",
    "        parent_id = sb.get_my_items_id()\n",
    "    \n",
    "    if delete_if_exists:\n",
    "        existing_items = json.loads(sb.get(\n",
    "            f\"https://www.sciencebase.gov/catalog/items?format=json&parentId={parent_id}&lq=title:{title}\"\n",
    "        ))\n",
    "        \n",
    "        if existing_items[\"total\"] > 0:\n",
    "            for item in existing_items[\"items\"]:\n",
    "                if item[\"hasChildren\"]:\n",
    "                    sb.delete_items(sb.get_child_ids(item[\"id\"]))\n",
    "                sb.delete_item(item)\n",
    "                \n",
    "    model_catalog_item = {\n",
    "        'title': title,\n",
    "        'parentId': parent_id\n",
    "    }\n",
    "    \n",
    "    if body is not None:\n",
    "        model_catalog_item[\"body\"] = body\n",
    "\n",
    "    return sb.create_item(model_catalog_item)\n",
    "\n",
    "\n",
    "def load_models_spreadsheet(file_path=\"USGS_models_named_models.xlsx\"):\n",
    "    output_link_columns = [\"Output\",\"Output.1\",\"Output.2\",\"Output.3\",\"Output.4\"]\n",
    "    \n",
    "    usgs_models = pd.read_excel(file_path)\n",
    "\n",
    "    # Replace NaN with None (makes it simpler to evaluate values)\n",
    "    usgs_models = usgs_models.replace({pd.np.nan: None})\n",
    "\n",
    "    # Put all of the output links into a list (makes it easier to process these later)\n",
    "    usgs_models[\"output_links\"] = usgs_models[output_link_columns].values.tolist()\n",
    "    usgs_models = usgs_models.drop(columns=output_link_columns)\n",
    "    \n",
    "    # Drop any unnamed columns (blanks in the Excel file)\n",
    "    usgs_models = usgs_models.drop(columns=[i for i in list(usgs_models.columns) if i.find(\"Unnamed\") != -1])\n",
    "    \n",
    "    return usgs_models\n",
    "\n",
    "\n",
    "def sb_party_to_contact(search_term):\n",
    "    search_result = requests.get(\n",
    "        f\"https://www.sciencebase.gov/directory/people?q={search_term}&format=json&dataset=all&max=10\"\n",
    "    ).json()\n",
    "    \n",
    "    if search_result[\"total\"] == 1:\n",
    "        person_record = search_result[\"people\"][0]\n",
    "\n",
    "        sb_contact = {\n",
    "            \"name\": person_record[\"displayName\"],\n",
    "            \"type\": \"Contact\",\n",
    "            \"oldPartyId\": person_record[\"id\"],\n",
    "            \"contactType\": person_record[\"type\"],\n",
    "            \"onlineResource\": f\"https://my.usgs.gov/catalog/Global/catalogParty/show/{person_record['id']}\",\n",
    "            \"email\": person_record[\"email\"],\n",
    "            \"active\": person_record[\"active\"],\n",
    "            \"jobTitle\": person_record[\"extensions\"][\"personExtension\"][\"jobTitle\"],\n",
    "            \"firstName\": person_record[\"extensions\"][\"personExtension\"][\"firstName\"],\n",
    "            \"lastName\": person_record[\"extensions\"][\"personExtension\"][\"lastName\"]\n",
    "        }\n",
    "\n",
    "        if \"orcId\" in person_record.keys():\n",
    "            sb_contact[\"orcId\"] = person_record[\"orcId\"]\n",
    "\n",
    "    else:\n",
    "        sb_contact = {\n",
    "            \"name\": search_term,\n",
    "            \"type\": \"Contact\",\n",
    "            \"email\": search_term\n",
    "        }\n",
    "        \n",
    "    return sb_contact\n",
    "    \n",
    "    \n",
    "def sb_web_link(url, title=\"Model Reference Link\"):\n",
    "    return {\n",
    "                \"type\": \"webLink\",\n",
    "                \"typeLabel\": \"Web Link\",\n",
    "                \"uri\": url,\n",
    "                \"rel\": \"related\",\n",
    "                \"title\": title,\n",
    "                \"hidden\": False\n",
    "            }\n",
    "\n",
    "\n",
    "def build_model_documents(df_models=None):\n",
    "    if df_models is None:\n",
    "        df_models = load_models_spreadsheet()\n",
    "    \n",
    "    model_documents = list()\n",
    "\n",
    "    for index, record in df_models.iterrows():\n",
    "        new_model_item = {\n",
    "            \"parentId\": model_catalog[\"id\"],\n",
    "            \"title\": record[\"Model Name\"],\n",
    "            \"webLinks\": list()\n",
    "        }\n",
    "\n",
    "        # Here we take the contact email addresses and use the sb_party_to_contact function to look them up and make proper contacts for ScienceBase\n",
    "        record_contacts = record[\"Contact(s)\"].split(\";\")\n",
    "        if len(record_contacts) > 0:\n",
    "            new_model_item[\"contacts\"] = [sb_party_to_contact(contact) for contact in record_contacts]\n",
    "            \n",
    "        # Here we split the sometimes lists of model reference links and add them to web links\n",
    "        for link in record[\"Link\"].split(\";\"):\n",
    "            new_model_item[\"webLinks\"].append(sb_web_link(link))\n",
    "\n",
    "        # Here we filter down to just output link values not already processed as a model reference and containing an actual value\n",
    "        for link in [l for l in record[\"output_links\"] if l is not None and len(l.strip()) > 0 and not l in [i[\"uri\"] for i in new_model_item[\"webLinks\"]]]:\n",
    "            new_model_item[\"webLinks\"].append(sb_web_link(link, \"Model Output Data\"))\n",
    "\n",
    "        model_documents.append(new_model_item)\n",
    "        \n",
    "    return model_documents\n",
    "\n",
    "\n",
    "def model_catalog_list_out(\n",
    "    model_catalog_id, \n",
    "    include_contact=True, \n",
    "    include_ref_link=True,\n",
    "    include_sb_link=True,\n",
    "    return_data=None, \n",
    "    write_to_excel=True, \n",
    "    file_name=\"usgs_model_catalog.xlsx\"\n",
    "):\n",
    "    simple_model_list = list()\n",
    "    column_list = [\"Model Name\"]\n",
    "    if include_contact:\n",
    "        column_list.append(\"Contact\")\n",
    "\n",
    "    if include_ref_link:\n",
    "        column_list.append(\"Model Reference Link\")\n",
    "\n",
    "    if include_sb_link:\n",
    "        column_list.append(\"ScienceBase Link\")\n",
    "\n",
    "    items = sb.find_items({\"parentId\": model_catalog_id, \"fields\": \"title,webLinks,contacts\"})\n",
    "    while items and 'items' in items:\n",
    "        for item in items['items']:\n",
    "            simple_item = {\n",
    "                \"Model Name\": item['title']\n",
    "            }\n",
    "\n",
    "            if include_contact:\n",
    "                simple_item[\"Contact\"] = next((c[\"name\"] for c in item[\"contacts\"]), None)\n",
    "                \n",
    "            if include_ref_link:\n",
    "                simple_item[\"Model Reference Link\"] = next((l[\"uri\"] for l in item[\"webLinks\"] if l[\"title\"] == \"Model Reference Link\"), None)\n",
    "            \n",
    "            if include_sb_link:\n",
    "                simple_item[\"ScienceBase Link\"] = item[\"link\"][\"url\"]\n",
    "\n",
    "            simple_model_list.append(simple_item)\n",
    "\n",
    "        items = sb.next(items)\n",
    "        \n",
    "    df_model_list = pd.DataFrame(simple_model_list)\n",
    "\n",
    "    if write_to_excel:\n",
    "        df_model_list.to_excel(file_name, index=False, columns=column_list)\n",
    "    \n",
    "    if return_data == \"dataframe\":\n",
    "        return df_model_list\n",
    "    \n",
    "    if return_data == \"dict\":\n",
    "        return simple_model_list"
   ]
  },
  {
   "cell_type": "markdown",
   "metadata": {},
   "source": [
    "# Connect to ScienceBase\n",
    "You need to establish an authenticated session with ScienceBase in order to write any items to the system. Insert your email address here, and when you execute the cell, you will be prompted for your Active Directory password."
   ]
  },
  {
   "cell_type": "code",
   "execution_count": 3,
   "metadata": {},
   "outputs": [
    {
     "name": "stdout",
     "output_type": "stream",
     "text": [
      "········\n"
     ]
    }
   ],
   "source": [
    "sb = SbSession().loginc(\"sbristol@usgs.gov\")"
   ]
  },
  {
   "cell_type": "markdown",
   "metadata": {},
   "source": [
    "# Create Model Catalog Container\n",
    "You will need to put the top level \"USGS Model Catalog\" item somewhere to serve as the container/collection for the model descriptive items. I would personally put that up at the very root of ScienceBase, eventually, but for now that can go anywhere that you want to house it in the near term. It just needs to be somewhere that you or someone else can open up for public access.\n",
    "\n",
    "Here, I am getting my own \"My Items\" ID using a function in sciencebasepy. You can replace parent_id_for_catalog with whatever ScienceBase Item ID (UUID) value you want to use or put it in your My Items space. We just want to be careful not to proliferate too many of these and clean up after ourselves.\n",
    "\n",
    "We then fire the create_model_catalog function with default settings for title and an option to delete any items with that same title in the parent container if they exist. We then look at the full item document that we just created. The ID for this item now becomes the parent ID that we'll use in creating the actual individual model descriptor items from the spreadsheet."
   ]
  },
  {
   "cell_type": "code",
   "execution_count": 4,
   "metadata": {},
   "outputs": [
    {
     "data": {
      "text/plain": [
       "{'link': {'rel': 'self',\n",
       "  'url': 'https://www.sciencebase.gov/catalog/item/5e8de96182cee42d134687cc'},\n",
       " 'relatedItems': {'link': {'url': 'https://www.sciencebase.gov/catalog/itemLinks?itemId=5e8de96182cee42d134687cc',\n",
       "   'rel': 'related'}},\n",
       " 'id': '5e8de96182cee42d134687cc',\n",
       " 'title': 'USGS Model Catalog',\n",
       " 'provenance': {'dateCreated': '2020-04-08T15:10:25Z',\n",
       "  'lastUpdated': '2020-04-08T15:10:25Z',\n",
       "  'lastUpdatedBy': 'sbristol@usgs.gov',\n",
       "  'createdBy': 'sbristol@usgs.gov'},\n",
       " 'hasChildren': False,\n",
       " 'parentId': '4f4f863be4b0c2aeb78a9e3f',\n",
       " 'permissions': {'read': {'acl': [],\n",
       "   'inherited': True,\n",
       "   'inheritsFromId': '4f4f863be4b0c2aeb78a9e3f'},\n",
       "  'write': {'acl': ['USER:sbristol@usgs.gov'],\n",
       "   'inherited': True,\n",
       "   'inheritsFromId': '4f4f863be4b0c2aeb78a9e3f'}},\n",
       " 'distributionLinks': [],\n",
       " 'locked': False}"
      ]
     },
     "execution_count": 4,
     "metadata": {},
     "output_type": "execute_result"
    }
   ],
   "source": [
    "model_catalog = create_model_catalog()\n",
    "model_catalog"
   ]
  },
  {
   "cell_type": "markdown",
   "metadata": {},
   "source": [
    "# Load the Excel file for processing\n",
    "There are lots of ways of working with spreadsheets of different kinds, but Pandas is pretty simple and convenient. Here we use the function to read the latest snapshot of the Excel file that I put in the code repo into a Pandas dataframe and show what it looks like."
   ]
  },
  {
   "cell_type": "code",
   "execution_count": 5,
   "metadata": {
    "scrolled": true
   },
   "outputs": [
    {
     "data": {
      "text/html": [
       "<div>\n",
       "<style scoped>\n",
       "    .dataframe tbody tr th:only-of-type {\n",
       "        vertical-align: middle;\n",
       "    }\n",
       "\n",
       "    .dataframe tbody tr th {\n",
       "        vertical-align: top;\n",
       "    }\n",
       "\n",
       "    .dataframe thead th {\n",
       "        text-align: right;\n",
       "    }\n",
       "</style>\n",
       "<table border=\"1\" class=\"dataframe\">\n",
       "  <thead>\n",
       "    <tr style=\"text-align: right;\">\n",
       "      <th></th>\n",
       "      <th>Model Name</th>\n",
       "      <th>Link</th>\n",
       "      <th>Contact(s)</th>\n",
       "      <th>output_links</th>\n",
       "    </tr>\n",
       "  </thead>\n",
       "  <tbody>\n",
       "    <tr>\n",
       "      <th>0</th>\n",
       "      <td>1DTempPro</td>\n",
       "      <td>https://water.usgs.gov/ogw/bgas/1dtemppro/</td>\n",
       "      <td>edswain@usgs.gov</td>\n",
       "      <td>[https://doi.org/10.5066/P9Q8JGAO,  , None, No...</td>\n",
       "    </tr>\n",
       "    <tr>\n",
       "      <th>1</th>\n",
       "      <td>BBS</td>\n",
       "      <td>https://www.mbr-pwrc.usgs.gov/bbs/</td>\n",
       "      <td>sbeliew@usgs.gov</td>\n",
       "      <td>[https://doi.org/10.5066/F7JS9NHH,  , None, No...</td>\n",
       "    </tr>\n",
       "    <tr>\n",
       "      <th>2</th>\n",
       "      <td>BEWARE</td>\n",
       "      <td>https://catalog.data.gov/dataset/beware-databa...</td>\n",
       "      <td>aallwardt@usgs.gov</td>\n",
       "      <td>[https://doi.org/10.5066/F7T43S20,  , None, No...</td>\n",
       "    </tr>\n",
       "    <tr>\n",
       "      <th>3</th>\n",
       "      <td>BISECT</td>\n",
       "      <td>https://pubs.er.usgs.gov/publication/sir20195045</td>\n",
       "      <td>edswain@usgs.gov</td>\n",
       "      <td>[ , None, None, None, None]</td>\n",
       "    </tr>\n",
       "    <tr>\n",
       "      <th>4</th>\n",
       "      <td>California Basin Characterization Model</td>\n",
       "      <td>https://ca.water.usgs.gov/projects/reg_hydro/b...</td>\n",
       "      <td>lflint@usgs.gov</td>\n",
       "      <td>[None, None, None, None, None]</td>\n",
       "    </tr>\n",
       "  </tbody>\n",
       "</table>\n",
       "</div>"
      ],
      "text/plain": [
       "                                Model Name  \\\n",
       "0                                1DTempPro   \n",
       "1                                      BBS   \n",
       "2                                  BEWARE    \n",
       "3                                   BISECT   \n",
       "4  California Basin Characterization Model   \n",
       "\n",
       "                                                Link          Contact(s)  \\\n",
       "0         https://water.usgs.gov/ogw/bgas/1dtemppro/    edswain@usgs.gov   \n",
       "1                 https://www.mbr-pwrc.usgs.gov/bbs/    sbeliew@usgs.gov   \n",
       "2  https://catalog.data.gov/dataset/beware-databa...  aallwardt@usgs.gov   \n",
       "3   https://pubs.er.usgs.gov/publication/sir20195045    edswain@usgs.gov   \n",
       "4  https://ca.water.usgs.gov/projects/reg_hydro/b...     lflint@usgs.gov   \n",
       "\n",
       "                                        output_links  \n",
       "0  [https://doi.org/10.5066/P9Q8JGAO,  , None, No...  \n",
       "1  [https://doi.org/10.5066/F7JS9NHH,  , None, No...  \n",
       "2  [https://doi.org/10.5066/F7T43S20,  , None, No...  \n",
       "3                        [ , None, None, None, None]  \n",
       "4                     [None, None, None, None, None]  "
      ]
     },
     "execution_count": 5,
     "metadata": {},
     "output_type": "execute_result"
    }
   ],
   "source": [
    "usgs_models = load_models_spreadsheet()\n",
    "usgs_models.head()"
   ]
  },
  {
   "cell_type": "markdown",
   "metadata": {},
   "source": [
    "# Processing work\n",
    "Looking at the data, we need to do a couple of things:\n",
    "\n",
    "* Split contacts on semicolons for cases where there is more than one email address\n",
    "* Grab all the output links from separate columns so we can add them as links\n",
    "\n",
    "We'll check to make sure that any output links aren't already the same as the info link so we don't duplicate those unnecessarily in ScienceBase.\n",
    "\n",
    "In this process, we need to make some choices about how we are going to deal with laying the information out.\n",
    "\n",
    "* With the email addresses, we have a good source to use in finding the full person record for contacts we want to add. We can't necessarily assume these are \"authors\" at this point, so we'll put them in as simple \"Point of Contact\" type contacts for this context.\n",
    "* We could do some sleuthing to really classify the links in different ways that could be really useful for the eventual catalog. For now, we can refer to the \"Link\" links with a title like \"Model Reference Link\" to basically put those links into a common context here. We'll title the others as \"Model Output\" for the time being.\n",
    "\n",
    "Some really interesting things could start to spool out from this just by gathering the links together like this. Some of the links represent machine-readable end points where code could be written to gather structured metadata from those sources and use it to build out a more complete picture of the models. We can explore what that might look like down the road."
   ]
  },
  {
   "cell_type": "markdown",
   "metadata": {},
   "source": [
    "# Build the model description documents\n",
    "The main task here is to take the information from the spreadsheet (title, contacts, web links) about the models and create initial descriptive items to put into ScienceBase. These \"description documents\" can then be fleshed out further within ScienceBase using both the edit interface and processes we can build later to use the item information as a start and then go out and gather new and fresh information from the web about the models.\n",
    "\n",
    "One issue here is that the contact matching should really be handled on the ScienceBase API end. I added in a step to lookup actual contact information and identifiers for the email addresses from the ScienceBase Directory. This serves to connect the dots between these new model descriptions we are inserting and named identities associated with them. The most visible effect of this is that you'll be able to hover over the contacts inserted into ScienceBase, link through to the contact pages, and see these new items associated with that contact. Repository management wise, this helps to further flesh out the official record of scientific products associated with an individual researcher.\n",
    "\n",
    "We shouldn't have to do this operation on the client side in an operation like this. Rather, ScienceBase should be able to connect the dots for us simply by us passing in a known identifier like a usgs.gov email address. We wouldn't want ScienceBase to automatically connect to a Directory identity for every contact like this, but if it's a usgs.gov email (and possibly other DOI emails) AND the identity is current in the Directory, then it would be reasonable to have that connection made automatically for us."
   ]
  },
  {
   "cell_type": "code",
   "execution_count": 6,
   "metadata": {},
   "outputs": [],
   "source": [
    "model_docs = build_model_documents(usgs_models)"
   ]
  },
  {
   "cell_type": "markdown",
   "metadata": {},
   "source": [
    "We can take a look now at what the barebones ScienceBase Items will look like for the model descriptions. The parentId points to the new container we created to house and instantiate the USGS Model Catalog. We can see that we've fleshed out the web links, putting them into some logical categories with titles, and built out contacts as full identities linked to our ScienceBase Directory.\n",
    "\n",
    "The web links here are going to be likely the most important part of the eventual description information model for these items. They are going to do things like drive processes to continually monitor the web for new and refreshed information about the models. Classifying the links to clarify what function they serve will be an important part of driving this process.\n",
    "\n",
    "### Slight rant...\n",
    "Unfortunately, the ScienceBase vocabularies for [web link types](https://www.sciencebase.gov/vocab/4f4e475de4b07f02db47debe/terms) and [contact types](https://www.sciencebase.gov/vocab/4f4e475ce4b07f02db47de84/terms) are really a mess right now and virtually unusable for any real purposes. In both groups, some types are incredibly detailed while others are totally vague. I could have picked link types other than the generic \"webLink\" to try and classify these, but it would have been meaningless without working on the semantics for the vocabulary. As soon as any vocabulary gets this large and messy, it is incredibly important that the owners of the vocabulary provide actual working definitions for the terms through descriptions and/or relationships to other vocabularies. What we have now means that each collection has to essentially bring its own contextual meaning to its particular use of the vocabulary. Someone really needs to work on ScienceBase Catalog semantics."
   ]
  },
  {
   "cell_type": "code",
   "execution_count": 7,
   "metadata": {},
   "outputs": [
    {
     "name": "stdout",
     "output_type": "stream",
     "text": [
      "36\n"
     ]
    },
    {
     "data": {
      "text/plain": [
       "{'parentId': '5e8de96182cee42d134687cc',\n",
       " 'title': 'MODFLOW-LGR',\n",
       " 'webLinks': [{'type': 'webLink',\n",
       "   'typeLabel': 'Web Link',\n",
       "   'uri': 'https://water.usgs.gov/ogw/modflow-lgr/',\n",
       "   'rel': 'related',\n",
       "   'title': 'Model Reference Link',\n",
       "   'hidden': False},\n",
       "  {'type': 'webLink',\n",
       "   'typeLabel': 'Web Link',\n",
       "   'uri': 'https://pubs.usgs.gov/tm/6a44/',\n",
       "   'rel': 'related',\n",
       "   'title': 'Model Output Data',\n",
       "   'hidden': False},\n",
       "  {'type': 'webLink',\n",
       "   'typeLabel': 'Web Link',\n",
       "   'uri': 'https://doi.org/10.3133/tm6A44',\n",
       "   'rel': 'related',\n",
       "   'title': 'Model Output Data',\n",
       "   'hidden': False}],\n",
       " 'contacts': [{'name': 'smehl@csuchico.edu',\n",
       "   'type': 'Contact',\n",
       "   'email': 'smehl@csuchico.edu'},\n",
       "  {'name': 'GS-CAWSC MODFLOW OWHM',\n",
       "   'type': 'Contact',\n",
       "   'oldPartyId': 66925,\n",
       "   'contactType': 'person',\n",
       "   'onlineResource': 'https://my.usgs.gov/catalog/Global/catalogParty/show/66925',\n",
       "   'email': 'modflow_owhm@usgs.gov',\n",
       "   'active': False,\n",
       "   'jobTitle': None,\n",
       "   'firstName': 'GS-CAWSC',\n",
       "   'lastName': 'MODFLOW OWHM'}]}"
      ]
     },
     "metadata": {},
     "output_type": "display_data"
    }
   ],
   "source": [
    "print(len(model_docs))\n",
    "display(model_docs[18])"
   ]
  },
  {
   "cell_type": "markdown",
   "metadata": {},
   "source": [
    "# Create items in catalog\n",
    "Now that we have our item documents built, we can go ahead and commit them to ScienceBase. We bring the committed items back into their own variable so we can see what they look like once created."
   ]
  },
  {
   "cell_type": "code",
   "execution_count": 8,
   "metadata": {},
   "outputs": [],
   "source": [
    "model_descriptor_items = sb.create_items(model_docs)"
   ]
  },
  {
   "cell_type": "code",
   "execution_count": 9,
   "metadata": {},
   "outputs": [
    {
     "name": "stdout",
     "output_type": "stream",
     "text": [
      "36\n"
     ]
    },
    {
     "data": {
      "text/plain": [
       "{'link': {'rel': 'self',\n",
       "  'url': 'https://www.sciencebase.gov/catalog/item/5e8de97782cee42d134687f3'},\n",
       " 'relatedItems': {'link': {'url': 'https://www.sciencebase.gov/catalog/itemLinks?itemId=5e8de97782cee42d134687f3',\n",
       "   'rel': 'related'}},\n",
       " 'id': '5e8de97782cee42d134687f3',\n",
       " 'title': 'MODFLOW-LGR',\n",
       " 'provenance': {'dateCreated': '2020-04-08T15:10:47Z',\n",
       "  'lastUpdated': '2020-04-08T15:10:47Z',\n",
       "  'lastUpdatedBy': 'sbristol@usgs.gov',\n",
       "  'createdBy': 'sbristol@usgs.gov'},\n",
       " 'hasChildren': False,\n",
       " 'parentId': '5e8de96182cee42d134687cc',\n",
       " 'contacts': [{'name': 'smehl@csuchico.edu',\n",
       "   'type': 'Contact',\n",
       "   'email': 'smehl@csuchico.edu'},\n",
       "  {'name': 'GS-CAWSC MODFLOW OWHM',\n",
       "   'oldPartyId': 66925,\n",
       "   'type': 'Contact',\n",
       "   'contactType': 'person',\n",
       "   'onlineResource': 'https://my.usgs.gov/catalog/Global/catalogParty/show/66925',\n",
       "   'email': 'modflow_owhm@usgs.gov',\n",
       "   'firstName': 'GS-CAWSC',\n",
       "   'lastName': 'MODFLOW OWHM'}],\n",
       " 'webLinks': [{'type': 'webLink',\n",
       "   'typeLabel': 'Web Link',\n",
       "   'uri': 'https://water.usgs.gov/ogw/modflow-lgr/',\n",
       "   'rel': 'related',\n",
       "   'title': 'Model Reference Link',\n",
       "   'hidden': False},\n",
       "  {'type': 'webLink',\n",
       "   'typeLabel': 'Web Link',\n",
       "   'uri': 'https://pubs.usgs.gov/tm/6a44/',\n",
       "   'rel': 'related',\n",
       "   'title': 'Model Output Data',\n",
       "   'hidden': False},\n",
       "  {'type': 'webLink',\n",
       "   'typeLabel': 'Web Link',\n",
       "   'uri': 'https://doi.org/10.3133/tm6A44',\n",
       "   'rel': 'related',\n",
       "   'title': 'Model Output Data',\n",
       "   'hidden': False}],\n",
       " 'permissions': {'read': {'acl': [],\n",
       "   'inherited': True,\n",
       "   'inheritsFromId': '4f4f863be4b0c2aeb78a9e3f'},\n",
       "  'write': {'acl': ['USER:sbristol@usgs.gov'],\n",
       "   'inherited': True,\n",
       "   'inheritsFromId': '4f4f863be4b0c2aeb78a9e3f'}},\n",
       " 'distributionLinks': [],\n",
       " 'locked': False}"
      ]
     },
     "metadata": {},
     "output_type": "display_data"
    }
   ],
   "source": [
    "print(len(model_descriptor_items))\n",
    "display(model_descriptor_items[18])"
   ]
  },
  {
   "cell_type": "markdown",
   "metadata": {},
   "source": [
    "# Items to spreadsheet\n",
    "Now that we have our simple prototype USGS Model Catalog created and populated it with our model descriptions, we can continue fleshing things out with additional details such as other web links, relationships to other ScienceBase Items, and other details we want to add. If we want to get our catalog back out as a simple spreadsheet, we can use the built in functions for ScienceBase Catalog search to dump out a CSV, which gives us a canned set of fields to work with, or we can do it with code to customize what we get back.\n",
    "\n",
    "I wrapped all of the item retrieval and output steps into a single function that only requires the model catalog parent ID to be passed in. (Note that this will essentially return something for any parent ID that you would send.) You can set the return_data parameter to return the data as either a list of dictionaries or as a Pandas dataframe. You can also set a parameter to either write out the Excel file or not, and you can specify which specific output fields you want to include.\n",
    "\n",
    "I made a number of choices about how to handle this part of the process with an eye toward providing a very simple output for our immediate purpose of simply sharing that we are making some degree of progress on the effort. By default, the resulting Excel file will have the Model Name, the first Model Reference Link, the first Contact (full name drawn from ScienceBase Directory where available), and will include a link to the ScienceBase Item created. We would only want to include the ScienceBase Link if we actually make the catalog public so those will be meaningful to anyone we share the spreadsheet with.\n",
    "\n",
    "In the following code block, I run the basic function and return it as a dataframe to show the basic structure created. Note that the column ordering is handled differently for the Excel output if you check out the generated file.\n",
    "\n",
    "Note that there can be a time lag in ScienceBase fully creating items and populating its search index. If you simply run all codeblocks in this notebook, you might get an Excel output that does not include every item. Wait for a few seconds and try running the model_catalog_list_out function again, and you should get all records dumped to the spreadsheet file."
   ]
  },
  {
   "cell_type": "code",
   "execution_count": 11,
   "metadata": {},
   "outputs": [
    {
     "data": {
      "text/html": [
       "<div>\n",
       "<style scoped>\n",
       "    .dataframe tbody tr th:only-of-type {\n",
       "        vertical-align: middle;\n",
       "    }\n",
       "\n",
       "    .dataframe tbody tr th {\n",
       "        vertical-align: top;\n",
       "    }\n",
       "\n",
       "    .dataframe thead th {\n",
       "        text-align: right;\n",
       "    }\n",
       "</style>\n",
       "<table border=\"1\" class=\"dataframe\">\n",
       "  <thead>\n",
       "    <tr style=\"text-align: right;\">\n",
       "      <th></th>\n",
       "      <th>Contact</th>\n",
       "      <th>Model Name</th>\n",
       "      <th>Model Reference Link</th>\n",
       "      <th>ScienceBase Link</th>\n",
       "    </tr>\n",
       "  </thead>\n",
       "  <tbody>\n",
       "    <tr>\n",
       "      <th>0</th>\n",
       "      <td>Lorraine E Flint</td>\n",
       "      <td>California Basin Characterization Model</td>\n",
       "      <td>https://ca.water.usgs.gov/projects/reg_hydro/b...</td>\n",
       "      <td>https://www.sciencebase.gov/catalog/item/5e8de...</td>\n",
       "    </tr>\n",
       "    <tr>\n",
       "      <th>1</th>\n",
       "      <td>John C Warner</td>\n",
       "      <td>COAWST</td>\n",
       "      <td>https://www.usgs.gov/center-news/coupled-ocean...</td>\n",
       "      <td>https://www.sciencebase.gov/catalog/item/5e8de...</td>\n",
       "    </tr>\n",
       "    <tr>\n",
       "      <th>2</th>\n",
       "      <td>Richard Niswonger</td>\n",
       "      <td>GSFLOW</td>\n",
       "      <td>https://www.usgs.gov/software/coupled-ground-w...</td>\n",
       "      <td>https://www.sciencebase.gov/catalog/item/5e8de...</td>\n",
       "    </tr>\n",
       "    <tr>\n",
       "      <th>3</th>\n",
       "      <td>Thomas R Sando</td>\n",
       "      <td>PROSPER</td>\n",
       "      <td>https://www.usgs.gov/centers/wy-mt-water/scien...</td>\n",
       "      <td>https://www.sciencebase.gov/catalog/item/5e8de...</td>\n",
       "    </tr>\n",
       "    <tr>\n",
       "      <th>4</th>\n",
       "      <td>Shannon Beliew</td>\n",
       "      <td>BBS</td>\n",
       "      <td>https://www.mbr-pwrc.usgs.gov/bbs/</td>\n",
       "      <td>https://www.sciencebase.gov/catalog/item/5e8de...</td>\n",
       "    </tr>\n",
       "  </tbody>\n",
       "</table>\n",
       "</div>"
      ],
      "text/plain": [
       "             Contact                               Model Name  \\\n",
       "0   Lorraine E Flint  California Basin Characterization Model   \n",
       "1      John C Warner                                   COAWST   \n",
       "2  Richard Niswonger                                   GSFLOW   \n",
       "3     Thomas R Sando                                  PROSPER   \n",
       "4     Shannon Beliew                                      BBS   \n",
       "\n",
       "                                Model Reference Link  \\\n",
       "0  https://ca.water.usgs.gov/projects/reg_hydro/b...   \n",
       "1  https://www.usgs.gov/center-news/coupled-ocean...   \n",
       "2  https://www.usgs.gov/software/coupled-ground-w...   \n",
       "3  https://www.usgs.gov/centers/wy-mt-water/scien...   \n",
       "4                 https://www.mbr-pwrc.usgs.gov/bbs/   \n",
       "\n",
       "                                    ScienceBase Link  \n",
       "0  https://www.sciencebase.gov/catalog/item/5e8de...  \n",
       "1  https://www.sciencebase.gov/catalog/item/5e8de...  \n",
       "2  https://www.sciencebase.gov/catalog/item/5e8de...  \n",
       "3  https://www.sciencebase.gov/catalog/item/5e8de...  \n",
       "4  https://www.sciencebase.gov/catalog/item/5e8de...  "
      ]
     },
     "execution_count": 11,
     "metadata": {},
     "output_type": "execute_result"
    }
   ],
   "source": [
    "model_catalog_list_out(model_catalog[\"id\"], return_data=\"dataframe\").head()"
   ]
  },
  {
   "cell_type": "code",
   "execution_count": null,
   "metadata": {},
   "outputs": [],
   "source": []
  }
 ],
 "metadata": {
  "kernelspec": {
   "display_name": "Python 3",
   "language": "python",
   "name": "python3"
  },
  "language_info": {
   "codemirror_mode": {
    "name": "ipython",
    "version": 3
   },
   "file_extension": ".py",
   "mimetype": "text/x-python",
   "name": "python",
   "nbconvert_exporter": "python",
   "pygments_lexer": "ipython3",
   "version": "3.7.3"
  }
 },
 "nbformat": 4,
 "nbformat_minor": 2
}
