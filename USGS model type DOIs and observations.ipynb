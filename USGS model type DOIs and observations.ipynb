{
 "cells": [
  {
   "cell_type": "markdown",
   "metadata": {},
   "source": [
    "After talking about the model catalog today, I got curious about the DOIs that have been minted in the USGS ID space that claim to be models. This notebook takes a look. A quick look at the DataCite works API shows that there are quite a few DOIs minted, with the majority coming from work I did to register all those GAP species habitat models. But there seem to be some other interesting things in there. I put in a process to pull all those together by paginating through the API results but then stash them in a Feather file in case for further reference."
   ]
  },
  {
   "cell_type": "code",
   "execution_count": 1,
   "metadata": {},
   "outputs": [],
   "source": [
    "import requests\n",
    "import pandas as pd\n",
    "\n",
    "recordset = list()"
   ]
  },
  {
   "cell_type": "code",
   "execution_count": null,
   "metadata": {},
   "outputs": [],
   "source": [
    "# Function to create lookup URL for USGS DOIs where resource type is model\n",
    "def get_url(page_number):\n",
    "    return f\"https://api.datacite.org/works?data-center-id=usgs.prod&resource-type-id=model&page[number]={page_number}\"\n"
   ]
  },
  {
   "cell_type": "code",
   "execution_count": null,
   "metadata": {},
   "outputs": [],
   "source": [
    "%%time\n",
    "# Get the first page of results\n",
    "page_number = 1\n",
    "result = requests.get(get_url(page_number)).json()"
   ]
  },
  {
   "cell_type": "code",
   "execution_count": null,
   "metadata": {},
   "outputs": [],
   "source": [
    "%%time\n",
    "# Loop through and build out the full result set (the lazy way)\n",
    "while len(result[\"data\"]) > 0:\n",
    "    recordset.extend(result[\"data\"])\n",
    "    page_number += 1\n",
    "    result = requests.get(get_url(page_number)).json()"
   ]
  },
  {
   "cell_type": "markdown",
   "metadata": {},
   "source": [
    "If we ran the process to get the latest set of model type DOIs, then we build a dataframe from the attributes structure in each record. If we didn't run it, then we pull in the dataframe from the stashed Pickle file."
   ]
  },
  {
   "cell_type": "code",
   "execution_count": 2,
   "metadata": {},
   "outputs": [],
   "source": [
    "if len(recordset) == 0:\n",
    "    df_models = pd.read_pickle(\"ModelsStash\")\n",
    "else:\n",
    "    df_models = pd.DataFrame([i[\"attributes\"] for i in recordset])\n",
    "    df_models.to_pickle(\"ModelsStash\")\n"
   ]
  },
  {
   "cell_type": "code",
   "execution_count": 3,
   "metadata": {},
   "outputs": [
    {
     "data": {
      "text/html": [
       "<div>\n",
       "<style scoped>\n",
       "    .dataframe tbody tr th:only-of-type {\n",
       "        vertical-align: middle;\n",
       "    }\n",
       "\n",
       "    .dataframe tbody tr th {\n",
       "        vertical-align: top;\n",
       "    }\n",
       "\n",
       "    .dataframe thead th {\n",
       "        text-align: right;\n",
       "    }\n",
       "</style>\n",
       "<table border=\"1\" class=\"dataframe\">\n",
       "  <thead>\n",
       "    <tr style=\"text-align: right;\">\n",
       "      <th></th>\n",
       "      <th>doi</th>\n",
       "      <th>identifier</th>\n",
       "      <th>url</th>\n",
       "      <th>author</th>\n",
       "      <th>title</th>\n",
       "      <th>container-title</th>\n",
       "      <th>description</th>\n",
       "      <th>resource-type-subtype</th>\n",
       "      <th>data-center-id</th>\n",
       "      <th>member-id</th>\n",
       "      <th>...</th>\n",
       "      <th>view-count</th>\n",
       "      <th>views-over-time</th>\n",
       "      <th>download-count</th>\n",
       "      <th>downloads-over-time</th>\n",
       "      <th>published</th>\n",
       "      <th>registered</th>\n",
       "      <th>checked</th>\n",
       "      <th>updated</th>\n",
       "      <th>media</th>\n",
       "      <th>xml</th>\n",
       "    </tr>\n",
       "  </thead>\n",
       "  <tbody>\n",
       "    <tr>\n",
       "      <th>0</th>\n",
       "      <td>10.5066/p9hiyvg2</td>\n",
       "      <td>https://doi.org/10.5066/p9hiyvg2</td>\n",
       "      <td>https://water.usgs.gov/GIS/metadata/usgswrd/XM...</td>\n",
       "      <td>[{'given': 'Tracie R', 'family': 'Jackson'}]</td>\n",
       "      <td>MODFLOW-2005 and PEST models used to character...</td>\n",
       "      <td>U.S. Geological Survey</td>\n",
       "      <td>None</td>\n",
       "      <td>Model</td>\n",
       "      <td>usgs.prod</td>\n",
       "      <td>usgs</td>\n",
       "      <td>...</td>\n",
       "      <td>0</td>\n",
       "      <td>[]</td>\n",
       "      <td>0</td>\n",
       "      <td>[]</td>\n",
       "      <td>2020</td>\n",
       "      <td>2020-03-05T18:30:50.000Z</td>\n",
       "      <td>None</td>\n",
       "      <td>2020-03-05T18:30:50.000Z</td>\n",
       "      <td>[]</td>\n",
       "      <td>PD94bWwgdmVyc2lvbj0iMS4wIiBlbmNvZGluZz0iVVRGLT...</td>\n",
       "    </tr>\n",
       "    <tr>\n",
       "      <th>1</th>\n",
       "      <td>10.5066/f76t0jpb</td>\n",
       "      <td>https://doi.org/10.5066/f76t0jpb</td>\n",
       "      <td>https://ca.water.usgs.gov/projects/reg_hydro/b...</td>\n",
       "      <td>[{'given': 'Lorraine E.', 'family': 'Flint'}, ...</td>\n",
       "      <td>California Basin Characterization Model: A Dat...</td>\n",
       "      <td>U.S. Geological Survey</td>\n",
       "      <td>The Basin Characterization Model (BCM), can tr...</td>\n",
       "      <td>Model</td>\n",
       "      <td>usgs.prod</td>\n",
       "      <td>usgs</td>\n",
       "      <td>...</td>\n",
       "      <td>0</td>\n",
       "      <td>[]</td>\n",
       "      <td>0</td>\n",
       "      <td>[]</td>\n",
       "      <td>2014</td>\n",
       "      <td>2014-09-17T00:57:18.000Z</td>\n",
       "      <td>None</td>\n",
       "      <td>2020-03-02T21:34:34.000Z</td>\n",
       "      <td>[]</td>\n",
       "      <td>PD94bWwgdmVyc2lvbj0iMS4wIiBlbmNvZGluZz0iVVRGLT...</td>\n",
       "    </tr>\n",
       "    <tr>\n",
       "      <th>2</th>\n",
       "      <td>10.5066/f798853m</td>\n",
       "      <td>https://doi.org/10.5066/f798853m</td>\n",
       "      <td>http://water.usgs.gov/GIS/metadata/usgswrd/XML...</td>\n",
       "      <td>[{'given': 'J Hal', 'family': 'Davis'}, {'give...</td>\n",
       "      <td>MODFLOW 2000 and MT3DMS models of potentiometr...</td>\n",
       "      <td>U.S. Geological Survey</td>\n",
       "      <td>This model is a preliminary characterization o...</td>\n",
       "      <td>Model</td>\n",
       "      <td>usgs.prod</td>\n",
       "      <td>usgs</td>\n",
       "      <td>...</td>\n",
       "      <td>0</td>\n",
       "      <td>[]</td>\n",
       "      <td>0</td>\n",
       "      <td>[]</td>\n",
       "      <td>2016</td>\n",
       "      <td>2016-05-05T18:15:15.000Z</td>\n",
       "      <td>None</td>\n",
       "      <td>2020-03-02T21:18:55.000Z</td>\n",
       "      <td>[]</td>\n",
       "      <td>PD94bWwgdmVyc2lvbj0iMS4wIiBlbmNvZGluZz0iVVRGLT...</td>\n",
       "    </tr>\n",
       "    <tr>\n",
       "      <th>3</th>\n",
       "      <td>10.5066/f76w98jb</td>\n",
       "      <td>https://doi.org/10.5066/f76w98jb</td>\n",
       "      <td>https://water.usgs.gov/GIS/metadata/usgswrd/XM...</td>\n",
       "      <td>[{'given': 'Alex R', 'family': 'Fiore'}, {'giv...</td>\n",
       "      <td>MODFLOW-2005 model used to evaluate the potent...</td>\n",
       "      <td>U.S. Geological Survey</td>\n",
       "      <td>A three-dimensional groundwater flow model, MO...</td>\n",
       "      <td>Model</td>\n",
       "      <td>usgs.prod</td>\n",
       "      <td>usgs</td>\n",
       "      <td>...</td>\n",
       "      <td>0</td>\n",
       "      <td>[]</td>\n",
       "      <td>0</td>\n",
       "      <td>[]</td>\n",
       "      <td>2018</td>\n",
       "      <td>2018-03-13T14:32:08.000Z</td>\n",
       "      <td>None</td>\n",
       "      <td>2020-03-02T21:18:05.000Z</td>\n",
       "      <td>[]</td>\n",
       "      <td>PD94bWwgdmVyc2lvbj0iMS4wIiBlbmNvZGluZz0iVVRGLT...</td>\n",
       "    </tr>\n",
       "    <tr>\n",
       "      <th>4</th>\n",
       "      <td>10.5066/f7h99392</td>\n",
       "      <td>https://doi.org/10.5066/f7h99392</td>\n",
       "      <td>http://water.usgs.gov/GIS/metadata/usgswrd/XML...</td>\n",
       "      <td>[{'given': 'Stephen J', 'family': 'Cauller'}, ...</td>\n",
       "      <td>MODFLOW2005 model used to simulate the effects...</td>\n",
       "      <td>U.S. Geological Survey</td>\n",
       "      <td>A three-dimensional groundwater flow model was...</td>\n",
       "      <td>Model</td>\n",
       "      <td>usgs.prod</td>\n",
       "      <td>usgs</td>\n",
       "      <td>...</td>\n",
       "      <td>0</td>\n",
       "      <td>[]</td>\n",
       "      <td>0</td>\n",
       "      <td>[]</td>\n",
       "      <td>2016</td>\n",
       "      <td>2016-07-26T16:40:24.000Z</td>\n",
       "      <td>None</td>\n",
       "      <td>2020-03-02T21:16:07.000Z</td>\n",
       "      <td>[]</td>\n",
       "      <td>PD94bWwgdmVyc2lvbj0iMS4wIiBlbmNvZGluZz0iVVRGLT...</td>\n",
       "    </tr>\n",
       "  </tbody>\n",
       "</table>\n",
       "<p>5 rows × 28 columns</p>\n",
       "</div>"
      ],
      "text/plain": [
       "                doi                        identifier  \\\n",
       "0  10.5066/p9hiyvg2  https://doi.org/10.5066/p9hiyvg2   \n",
       "1  10.5066/f76t0jpb  https://doi.org/10.5066/f76t0jpb   \n",
       "2  10.5066/f798853m  https://doi.org/10.5066/f798853m   \n",
       "3  10.5066/f76w98jb  https://doi.org/10.5066/f76w98jb   \n",
       "4  10.5066/f7h99392  https://doi.org/10.5066/f7h99392   \n",
       "\n",
       "                                                 url  \\\n",
       "0  https://water.usgs.gov/GIS/metadata/usgswrd/XM...   \n",
       "1  https://ca.water.usgs.gov/projects/reg_hydro/b...   \n",
       "2  http://water.usgs.gov/GIS/metadata/usgswrd/XML...   \n",
       "3  https://water.usgs.gov/GIS/metadata/usgswrd/XM...   \n",
       "4  http://water.usgs.gov/GIS/metadata/usgswrd/XML...   \n",
       "\n",
       "                                              author  \\\n",
       "0       [{'given': 'Tracie R', 'family': 'Jackson'}]   \n",
       "1  [{'given': 'Lorraine E.', 'family': 'Flint'}, ...   \n",
       "2  [{'given': 'J Hal', 'family': 'Davis'}, {'give...   \n",
       "3  [{'given': 'Alex R', 'family': 'Fiore'}, {'giv...   \n",
       "4  [{'given': 'Stephen J', 'family': 'Cauller'}, ...   \n",
       "\n",
       "                                               title         container-title  \\\n",
       "0  MODFLOW-2005 and PEST models used to character...  U.S. Geological Survey   \n",
       "1  California Basin Characterization Model: A Dat...  U.S. Geological Survey   \n",
       "2  MODFLOW 2000 and MT3DMS models of potentiometr...  U.S. Geological Survey   \n",
       "3  MODFLOW-2005 model used to evaluate the potent...  U.S. Geological Survey   \n",
       "4  MODFLOW2005 model used to simulate the effects...  U.S. Geological Survey   \n",
       "\n",
       "                                         description resource-type-subtype  \\\n",
       "0                                               None                 Model   \n",
       "1  The Basin Characterization Model (BCM), can tr...                 Model   \n",
       "2  This model is a preliminary characterization o...                 Model   \n",
       "3  A three-dimensional groundwater flow model, MO...                 Model   \n",
       "4  A three-dimensional groundwater flow model was...                 Model   \n",
       "\n",
       "  data-center-id member-id  ... view-count views-over-time download-count  \\\n",
       "0      usgs.prod      usgs  ...          0              []              0   \n",
       "1      usgs.prod      usgs  ...          0              []              0   \n",
       "2      usgs.prod      usgs  ...          0              []              0   \n",
       "3      usgs.prod      usgs  ...          0              []              0   \n",
       "4      usgs.prod      usgs  ...          0              []              0   \n",
       "\n",
       "  downloads-over-time published                registered  checked  \\\n",
       "0                  []      2020  2020-03-05T18:30:50.000Z     None   \n",
       "1                  []      2014  2014-09-17T00:57:18.000Z     None   \n",
       "2                  []      2016  2016-05-05T18:15:15.000Z     None   \n",
       "3                  []      2018  2018-03-13T14:32:08.000Z     None   \n",
       "4                  []      2016  2016-07-26T16:40:24.000Z     None   \n",
       "\n",
       "                    updated  media  \\\n",
       "0  2020-03-05T18:30:50.000Z     []   \n",
       "1  2020-03-02T21:34:34.000Z     []   \n",
       "2  2020-03-02T21:18:55.000Z     []   \n",
       "3  2020-03-02T21:18:05.000Z     []   \n",
       "4  2020-03-02T21:16:07.000Z     []   \n",
       "\n",
       "                                                 xml  \n",
       "0  PD94bWwgdmVyc2lvbj0iMS4wIiBlbmNvZGluZz0iVVRGLT...  \n",
       "1  PD94bWwgdmVyc2lvbj0iMS4wIiBlbmNvZGluZz0iVVRGLT...  \n",
       "2  PD94bWwgdmVyc2lvbj0iMS4wIiBlbmNvZGluZz0iVVRGLT...  \n",
       "3  PD94bWwgdmVyc2lvbj0iMS4wIiBlbmNvZGluZz0iVVRGLT...  \n",
       "4  PD94bWwgdmVyc2lvbj0iMS4wIiBlbmNvZGluZz0iVVRGLT...  \n",
       "\n",
       "[5 rows x 28 columns]"
      ]
     },
     "execution_count": 3,
     "metadata": {},
     "output_type": "execute_result"
    }
   ],
   "source": [
    "# See what the data look like in a dataframe\n",
    "df_models.head(5)"
   ]
  },
  {
   "cell_type": "code",
   "execution_count": null,
   "metadata": {},
   "outputs": [],
   "source": [
    "# Set the option to be able to look at everything in columns for convenience\n",
    "pd.set_option('display.max_colwidth', None)"
   ]
  },
  {
   "cell_type": "markdown",
   "metadata": {},
   "source": [
    "One of the things I was interested in is where these DOIs actually point in terms of their dereferencing URLs. To examine this, I create a new column with just the domain part of the URL so that I can group and look at things."
   ]
  },
  {
   "cell_type": "code",
   "execution_count": null,
   "metadata": {},
   "outputs": [],
   "source": [
    "df_models['url_domain'] = df_models.apply(lambda row: row.url.split(\"/\")[2], axis = 1)"
   ]
  },
  {
   "cell_type": "code",
   "execution_count": null,
   "metadata": {},
   "outputs": [],
   "source": [
    "df_models[[\"doi\",\"url_domain\"]].groupby('url_domain').count()"
   ]
  },
  {
   "cell_type": "markdown",
   "metadata": {},
   "source": [
    "That's kind of an interesting spread. Almost all of the 1761 \"models\" in ScienceBase are the GAP habitat maps, which are a model output of sorts from a habitat affinity-based species distribution modeling method that involves human intervention. But it looks like we have some other interesting things to look at and think about in terms of what they actual represent for a future model catalog. In the sections below, I output particular records, take a look to see what's on the other end, and provide some notes."
   ]
  },
  {
   "cell_type": "code",
   "execution_count": null,
   "metadata": {},
   "outputs": [],
   "source": [
    "# Helper function to filter the dataframe for a particular URL domain\n",
    "def get_domain_items(domain):\n",
    "    return df_models.loc[df_models['url_domain'] == domain][[\"doi\",\"url\",\"title\",\"description\"]]"
   ]
  },
  {
   "cell_type": "code",
   "execution_count": null,
   "metadata": {},
   "outputs": [],
   "source": [
    "get_domain_items(\"usgs.gov\")"
   ]
  },
  {
   "cell_type": "markdown",
   "metadata": {},
   "source": [
    "Well, those are disappointing. Looks like someone needs to do some cleanup in what actually got registered out with DataCite, if that's even possible."
   ]
  },
  {
   "cell_type": "code",
   "execution_count": null,
   "metadata": {},
   "outputs": [],
   "source": [
    "get_domain_items(\"axiomdatascience.com\")"
   ]
  },
  {
   "cell_type": "markdown",
   "metadata": {},
   "source": [
    "This one from a USGS partner in Alaska that I know pretty well looks interesting. The DOI de-references to a web application run by Axiom Data Science that provides an interactive system to visualize and download the cached results (model output data) for a wave height and wind speed model that looks at both historic conditions and projected futures under several scenarios for coastal zones. The abstract and the web site list other interesting parts of the picture, including a USGS Open File Report describing the methods and what is possibly an \"off the books\" web page that purportedly accompanied a data release but is the kind of thing that might otherwise have ended up in a USGS Data Series or something similar with a journal. This is a pretty interesting case that has just about all the components for a model catalog except that I couldn't find the source code with a cursory look at least."
   ]
  },
  {
   "cell_type": "code",
   "execution_count": null,
   "metadata": {},
   "outputs": [],
   "source": [
    "get_domain_items(\"code.usgs.gov\")"
   ]
  },
  {
   "cell_type": "markdown",
   "metadata": {},
   "source": [
    "I know a little bit about the COAWST model coupling system as I looked at is as an example for EarthMAP. The DOI reference here points to a fine enough source repository, but it does present some challenges in terms of interfacing toward the model catalog idea. You really have to dig into the user manual in a Word document to get at deeper level information about the model, which means writing code to crawl and put pieces together here would be pretty challenging.\n",
    "\n",
    "I'd heard about the Sagebrush Hurdle Model but hadn't looked at the source code before. This is an interesting case where there is some useful metadata embedded in the README, namely a reference to a journal article that model was used in. The repo also has a CSV file that contains the input data for the model, which probably happens a fair bit depending on the size of the necessary data. It's not a bad practice, in some ways, to stash input data with the model. However, in this case, there's really not any real documentation in or with the dataset (species occurrence points and basic environmental condition) to understand where it came from without some sleuthing. So, it gets points for transparency, but some demerits for re-usability."
   ]
  },
  {
   "cell_type": "code",
   "execution_count": null,
   "metadata": {},
   "outputs": [],
   "source": [
    "get_domain_items(\"github.com\")"
   ]
  },
  {
   "cell_type": "markdown",
   "metadata": {},
   "source": [
    "This is an interesting case of a minted DOI pointing to a provisional code repo sitting in a personal space in GitHub. I guess that's okay under policy, but it opens a few questions. I would tend to not mint a DOI for something that was not going to eventually be production code. Richie Erickson does provide a nice disclaimer up front in the README indicating that he doesn't expect someone to build on it. There's a title reference to an article that's now [published](https://www.ncbi.nlm.nih.gov/pubmed/31188494), and some guidance about following up to put those links into some type of code metadata that would support the reference would be a good thing to have."
   ]
  },
  {
   "cell_type": "code",
   "execution_count": null,
   "metadata": {},
   "outputs": [],
   "source": [
    "get_domain_items(\"my.usgs.gov\")"
   ]
  },
  {
   "cell_type": "markdown",
   "metadata": {},
   "source": [
    "These three cases are pointing to the Atlassian BitBucket instance that we've now decomissioned on myUSGS. Someone probably should follow up to see if these repos got moved somewhere else and then change the dereferencing URL in the DOI system. The lack of a description in the DataCite metadata here (and elsewhere) should also be a flag."
   ]
  },
  {
   "cell_type": "code",
   "execution_count": null,
   "metadata": {},
   "outputs": [],
   "source": [
    "get_domain_items(\"regclim.coas.oregonstate.edu\")"
   ]
  },
  {
   "cell_type": "markdown",
   "metadata": {},
   "source": [
    "This is a web site that provides access to data distribution services for NetCDF files from a climate model downscaling process. It's essentially model output data or perhaps more precisely, model derivative data. This process has been done in a number of different places using a variety of downscaling methods appropriate to different uses. The most notable framework in USGS for distributing these data with some value-added services for statistical summarization is through the GeoDataPortal. In this case, the DOI might actually be miscategorized as a model but it's related to modeling, indicating that some guidance and parameters are probably needed in USGS policy."
   ]
  },
  {
   "cell_type": "code",
   "execution_count": null,
   "metadata": {},
   "outputs": [],
   "source": [
    "get_domain_items(\"dx.doi.org\")"
   ]
  },
  {
   "cell_type": "markdown",
   "metadata": {},
   "source": [
    "This is a curious one that dereferences to another DOI that is not active at the moment. Something weird happened with this. It seems like we should have some safeguards in our toolset to keep this kind of thing from happening.\n",
    "\n",
    "The description does present an interesting class of model \"stuff\" that will end up in our catalog somewhere - inputs and outputs from hypothetical model runs made to critically examine aspects of model performance or provide some level of calibration. These are important artifacts in a modeling lifecycle that we should come up with a way to handle, but they should be somehow distinct from other types of model \"packages.\""
   ]
  },
  {
   "cell_type": "code",
   "execution_count": null,
   "metadata": {},
   "outputs": [],
   "source": [
    "# Provide an index on a key substring identifying GAP habitat maps and then show the rest\n",
    "sciencebase_items = get_domain_items(\"www.sciencebase.gov\")\n",
    "sciencebase_items[\"hab_map\"] = sciencebase_items[\"title\"].str.find(\"_2001v1\",2)\n",
    "sciencebase_items.loc[sciencebase_items[\"hab_map\"] < 0]"
   ]
  },
  {
   "cell_type": "markdown",
   "metadata": {},
   "source": [
    "I already know about the GAP habitat maps, but I was curious about what other \"models\" are distributed via ScienceBase. It looks like some cool stuff online. A bunch of missing descriptions is problematic and something that should be easily fixed in the DOI system. Unfortunately, ScienceBase seems to be taking some much needed time off this evening, so I can't pull up any of these. Descriptions look like model outputs, and I would guess that the ScienceBase Items might actually be classed as data releases (or at least they could have been). The nice thing about using ScienceBase as the backend landing system for these DOIs would be the reasonably simple structured metadata capability. I'd be looking for things like links to source code, links to associated publications, and links or relationships to input data that might have been structured into the items, making the production of a linked catalog more feasible."
   ]
  },
  {
   "cell_type": "code",
   "execution_count": null,
   "metadata": {},
   "outputs": [],
   "source": []
  }
 ],
 "metadata": {
  "kernelspec": {
   "display_name": "Python 3",
   "language": "python",
   "name": "python3"
  },
  "language_info": {
   "codemirror_mode": {
    "name": "ipython",
    "version": 3
   },
   "file_extension": ".py",
   "mimetype": "text/x-python",
   "name": "python",
   "nbconvert_exporter": "python",
   "pygments_lexer": "ipython3",
   "version": "3.8.1"
  }
 },
 "nbformat": 4,
 "nbformat_minor": 4
}
